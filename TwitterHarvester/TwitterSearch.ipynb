{
 "cells": [
  {
   "cell_type": "code",
   "execution_count": 8,
   "id": "a7006875",
   "metadata": {
    "ExecuteTime": {
     "end_time": "2022-05-08T05:24:29.897851Z",
     "start_time": "2022-05-08T05:24:29.894457Z"
    }
   },
   "outputs": [],
   "source": [
    "import sys\n",
    "import re\n",
    "import time\n",
    "import couchdb\n",
    "import tweepy"
   ]
  },
  {
   "cell_type": "code",
   "execution_count": 26,
   "id": "d8cc0f74",
   "metadata": {
    "ExecuteTime": {
     "end_time": "2022-05-08T05:37:10.778834Z",
     "start_time": "2022-05-08T05:37:10.776952Z"
    }
   },
   "outputs": [],
   "source": [
    "CONSUMER_KEY = 'l1m1kwTc68Dguv9yKmFpaxTsR'\n",
    "CONSUMER_SECRET = 'WVgjbKyz9ICmMZRBbh2dxAHieOv1JWwoKdwMX77tUNvpibjaG1'\n",
    "OAUTH_TOKEN = '1513822841426554881-XAos7hxcInZX2zuUtBWEHrNUgHVyfi'\n",
    "OAUTH_TOKEN_SECRET = 'IQRmIeodvV8wgmt9DtxUruUQJ95G32cSF4mDu2jL8kkVK'\n",
    "bearer = 'AAAAAAAAAAAAAAAAAAAAAP6kbQEAAAAAMonSjW3WVKpcrP6y%2BstoNcEFz3g%3DGPSE7WXwGTZSu0CrXRRVEuJaTeBlfPBAKOz6e8yVRMCaOErR6q'"
   ]
  },
  {
   "cell_type": "code",
   "execution_count": 134,
   "id": "47f3c7eb",
   "metadata": {
    "ExecuteTime": {
     "end_time": "2022-05-08T06:47:33.014553Z",
     "start_time": "2022-05-08T06:47:33.012616Z"
    }
   },
   "outputs": [],
   "source": [
    "client = tweepy.Client(bearer_token = bearer, consumer_key = CONSUMER_KEY, \n",
    "                       consumer_secret = CONSUMER_SECRET, access_token = OAUTH_TOKEN, \n",
    "                       access_token_secret = OAUTH_TOKEN_SECRET, \n",
    "                       wait_on_rate_limit=True)"
   ]
  },
  {
   "cell_type": "code",
   "execution_count": 128,
   "id": "dd85b3a0",
   "metadata": {
    "ExecuteTime": {
     "end_time": "2022-05-08T06:43:30.676551Z",
     "start_time": "2022-05-08T06:43:30.669050Z"
    }
   },
   "outputs": [],
   "source": [
    "def search(query):\n",
    "    collection = tweepy.Paginator(\n",
    "        client.search_recent_tweets, \n",
    "        query=query, \n",
    "        expansions=[\"author_id\", \"geo.place_id\", \"attachments.media_keys\"], \n",
    "        max_results=10,\n",
    "        tweet_fields = ['author_id', 'context_annotations', 'conversation_id', \n",
    "                        'created_at', 'entities', 'geo', 'in_reply_to_user_id', \n",
    "                        'lang', 'public_metrics', 'possibly_sensitive', 'referenced_tweets', \n",
    "                        'reply_settings', 'source', 'text', 'withheld'], \n",
    "        user_fields = ['created_at', 'description', 'entities', 'id', 'location', 'name', \n",
    "                       'public_metrics', 'username', 'verified', 'withheld'], \n",
    "        media_fields = [\"duration_ms\", \"height\", \"media_key\", \"preview_image_url\", \"type\", \n",
    "                        \"url\", \"width\", \"public_metrics\", \"alt_text\"], \n",
    "        place_fields = [\"contained_within\", \"country\", \"country_code\", \"full_name\", \n",
    "                        \"geo\", \"id\", \"name\", \"place_type\"], \n",
    "        limit=5\n",
    "    )\n",
    "    \n",
    "    searched_tweets = [i for i in collection]\n",
    "    return searched_tweets"
   ]
  },
  {
   "cell_type": "code",
   "execution_count": 150,
   "id": "b5c909be",
   "metadata": {
    "ExecuteTime": {
     "end_time": "2022-05-08T09:52:31.950311Z",
     "start_time": "2022-05-08T09:52:29.992187Z"
    }
   },
   "outputs": [],
   "source": [
    "# query refer to https://developer.twitter.com/en/docs/twitter-api/tweets/counts/integrate/build-a-query\n",
    "\n",
    "q = \"(happy OR happiness) lang:en -birthday -is:retweet\"\n",
    "\n",
    "results = search(q)"
   ]
  },
  {
   "cell_type": "code",
   "execution_count": 214,
   "id": "79db3be9",
   "metadata": {
    "ExecuteTime": {
     "end_time": "2022-05-08T10:41:54.838930Z",
     "start_time": "2022-05-08T10:41:54.836283Z"
    }
   },
   "outputs": [
    {
     "data": {
      "text/plain": [
       "[]"
      ]
     },
     "execution_count": 214,
     "metadata": {},
     "output_type": "execute_result"
    }
   ],
   "source": [
    "#1336693438562131971\n",
    "results[0][1]['places'][0].contained_within"
   ]
  },
  {
   "cell_type": "code",
   "execution_count": 118,
   "id": "f53dda4a",
   "metadata": {
    "ExecuteTime": {
     "end_time": "2022-05-08T06:24:04.930146Z",
     "start_time": "2022-05-08T06:24:04.927303Z"
    }
   },
   "outputs": [],
   "source": [
    "q = \"(Melbourne OR New York) lang:en -birthday -is:retweet\"\n",
    "collection = tweepy.Paginator(\n",
    "        client.search_recent_tweets, \n",
    "        query=q, \n",
    "        expansions=[\"author_id\", \"geo.place_id\", \"attachments.media_keys\"], \n",
    "        max_results=10,\n",
    "        tweet_fields = ['author_id', 'context_annotations', 'conversation_id', \n",
    "                        'created_at', 'entities', 'geo', 'in_reply_to_user_id', \n",
    "                        'lang', 'public_metrics', 'possibly_sensitive', 'referenced_tweets', \n",
    "                        'reply_settings', 'source', 'text', 'withheld'], \n",
    "        user_fields = ['created_at', 'description', 'entities', 'id', 'location', 'name', \n",
    "                       'public_metrics', 'username', 'verified', 'withheld'], \n",
    "        media_fields = [\"duration_ms\", \"height\", \"media_key\", \"preview_image_url\", \"type\", \n",
    "                        \"url\", \"width\", \"public_metrics\", \"alt_text\"], \n",
    "        place_fields = [\"contained_within\", \"country\", \"country_code\", \"full_name\", \n",
    "                        \"geo\", \"id\", \"name\", \"place_type\"]\n",
    "    )"
   ]
  },
  {
   "cell_type": "code",
   "execution_count": null,
   "id": "254c9853",
   "metadata": {
    "ExecuteTime": {
     "end_time": "2022-05-08T06:48:13.016600Z",
     "start_time": "2022-05-08T06:48:12.555672Z"
    }
   },
   "outputs": [],
   "source": []
  },
  {
   "cell_type": "code",
   "execution_count": null,
   "id": "33d428a6",
   "metadata": {
    "ExecuteTime": {
     "end_time": "2022-05-08T06:51:29.703234Z",
     "start_time": "2022-05-08T06:51:29.477565Z"
    }
   },
   "outputs": [],
   "source": []
  },
  {
   "cell_type": "code",
   "execution_count": null,
   "id": "e6782b3f",
   "metadata": {},
   "outputs": [],
   "source": []
  }
 ],
 "metadata": {
  "kernelspec": {
   "display_name": "Python 3 (ipykernel)",
   "language": "python",
   "name": "python3"
  },
  "language_info": {
   "codemirror_mode": {
    "name": "ipython",
    "version": 3
   },
   "file_extension": ".py",
   "mimetype": "text/x-python",
   "name": "python",
   "nbconvert_exporter": "python",
   "pygments_lexer": "ipython3",
   "version": "3.9.7"
  },
  "toc": {
   "base_numbering": 1,
   "nav_menu": {},
   "number_sections": true,
   "sideBar": true,
   "skip_h1_title": false,
   "title_cell": "Table of Contents",
   "title_sidebar": "Contents",
   "toc_cell": false,
   "toc_position": {},
   "toc_section_display": true,
   "toc_window_display": false
  }
 },
 "nbformat": 4,
 "nbformat_minor": 5
}
