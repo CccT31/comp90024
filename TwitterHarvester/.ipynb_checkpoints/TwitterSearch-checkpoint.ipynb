{
 "cells": [
  {
   "cell_type": "code",
   "execution_count": 8,
   "id": "5fb10322",
   "metadata": {
    "ExecuteTime": {
     "end_time": "2022-05-08T05:24:29.897851Z",
     "start_time": "2022-05-08T05:24:29.894457Z"
    }
   },
   "outputs": [],
   "source": [
    "import sys\n",
    "import re\n",
    "import time\n",
    "import couchdb\n",
    "import tweepy"
   ]
  },
  {
   "cell_type": "code",
   "execution_count": 26,
   "id": "6ed9a469",
   "metadata": {
    "ExecuteTime": {
     "end_time": "2022-05-08T05:37:10.778834Z",
     "start_time": "2022-05-08T05:37:10.776952Z"
    }
   },
   "outputs": [],
   "source": [
    "CONSUMER_KEY = 'l1m1kwTc68Dguv9yKmFpaxTsR'\n",
    "CONSUMER_SECRET = 'WVgjbKyz9ICmMZRBbh2dxAHieOv1JWwoKdwMX77tUNvpibjaG1'\n",
    "OAUTH_TOKEN = '1513822841426554881-XAos7hxcInZX2zuUtBWEHrNUgHVyfi'\n",
    "OAUTH_TOKEN_SECRET = 'IQRmIeodvV8wgmt9DtxUruUQJ95G32cSF4mDu2jL8kkVK'\n",
    "bearer = 'AAAAAAAAAAAAAAAAAAAAAP6kbQEAAAAAMonSjW3WVKpcrP6y%2BstoNcEFz3g%3DGPSE7WXwGTZSu0CrXRRVEuJaTeBlfPBAKOz6e8yVRMCaOErR6q'"
   ]
  },
  {
   "cell_type": "code",
   "execution_count": 134,
   "id": "a9f8b183",
   "metadata": {
    "ExecuteTime": {
     "end_time": "2022-05-08T06:47:33.014553Z",
     "start_time": "2022-05-08T06:47:33.012616Z"
    }
   },
   "outputs": [],
   "source": [
    "client = tweepy.Client(bearer_token = bearer, consumer_key = CONSUMER_KEY, \n",
    "                       consumer_secret = CONSUMER_SECRET, access_token = OAUTH_TOKEN, \n",
    "                       access_token_secret = OAUTH_TOKEN_SECRET, \n",
    "                       wait_on_rate_limit=True)"
   ]
  },
  {
   "cell_type": "code",
   "execution_count": 128,
   "id": "a059c795",
   "metadata": {
    "ExecuteTime": {
     "end_time": "2022-05-08T06:43:30.676551Z",
     "start_time": "2022-05-08T06:43:30.669050Z"
    }
   },
   "outputs": [],
   "source": [
    "def search(query):\n",
    "    collection = tweepy.Paginator(\n",
    "        client.search_recent_tweets, \n",
    "        query=query, \n",
    "        expansions=[\"author_id\", \"geo.place_id\", \"attachments.media_keys\"], \n",
    "        max_results=10,\n",
    "        tweet_fields = ['author_id', 'context_annotations', 'conversation_id', \n",
    "                        'created_at', 'entities', 'geo', 'in_reply_to_user_id', \n",
    "                        'lang', 'public_metrics', 'possibly_sensitive', 'referenced_tweets', \n",
    "                        'reply_settings', 'source', 'text', 'withheld'], \n",
    "        user_fields = ['created_at', 'description', 'entities', 'id', 'location', 'name', \n",
    "                       'public_metrics', 'username', 'verified', 'withheld'], \n",
    "        media_fields = [\"duration_ms\", \"height\", \"media_key\", \"preview_image_url\", \"type\", \n",
    "                        \"url\", \"width\", \"public_metrics\", \"alt_text\"], \n",
    "        place_fields = [\"contained_within\", \"country\", \"country_code\", \"full_name\", \n",
    "                        \"geo\", \"id\", \"name\", \"place_type\"], \n",
    "        limit=5\n",
    "    )\n",
    "    \n",
    "    searched_tweets = [i for i in collection]\n",
    "    return searched_tweets"
   ]
  },
  {
   "cell_type": "code",
   "execution_count": 129,
   "id": "6f32157e",
   "metadata": {
    "ExecuteTime": {
     "end_time": "2022-05-08T06:43:33.904115Z",
     "start_time": "2022-05-08T06:43:31.871681Z"
    }
   },
   "outputs": [],
   "source": [
    "# query refer to https://developer.twitter.com/en/docs/twitter-api/tweets/counts/integrate/build-a-query\n",
    "\n",
    "q = \"(happy OR happiness) lang:en -birthday -is:retweet\"\n",
    "\n",
    "results = search(q)"
   ]
  },
  {
   "cell_type": "code",
   "execution_count": 149,
   "id": "7b8cd7b0",
   "metadata": {
    "ExecuteTime": {
     "end_time": "2022-05-08T06:52:49.386689Z",
     "start_time": "2022-05-08T06:52:49.384247Z"
    }
   },
   "outputs": [
    {
     "data": {
      "text/plain": [
       "datetime.datetime(2022, 5, 8, 6, 43, 21, tzinfo=datetime.timezone.utc)"
      ]
     },
     "execution_count": 149,
     "metadata": {},
     "output_type": "execute_result"
    }
   ],
   "source": [
    "results[0].data[0].created_at"
   ]
  },
  {
   "cell_type": "code",
   "execution_count": 118,
   "id": "9beb699e",
   "metadata": {
    "ExecuteTime": {
     "end_time": "2022-05-08T06:24:04.930146Z",
     "start_time": "2022-05-08T06:24:04.927303Z"
    }
   },
   "outputs": [],
   "source": [
    "q = \"(Melbourne OR New York) lang:en -birthday -is:retweet\"\n",
    "collection = tweepy.Paginator(\n",
    "        client.search_recent_tweets, \n",
    "        query=q, \n",
    "        expansions=[\"author_id\", \"geo.place_id\", \"attachments.media_keys\"], \n",
    "        max_results=10,\n",
    "        tweet_fields = ['author_id', 'context_annotations', 'conversation_id', \n",
    "                        'created_at', 'entities', 'geo', 'in_reply_to_user_id', \n",
    "                        'lang', 'public_metrics', 'possibly_sensitive', 'referenced_tweets', \n",
    "                        'reply_settings', 'source', 'text', 'withheld'], \n",
    "        user_fields = ['created_at', 'description', 'entities', 'id', 'location', 'name', \n",
    "                       'public_metrics', 'username', 'verified', 'withheld'], \n",
    "        media_fields = [\"duration_ms\", \"height\", \"media_key\", \"preview_image_url\", \"type\", \n",
    "                        \"url\", \"width\", \"public_metrics\", \"alt_text\"], \n",
    "        place_fields = [\"contained_within\", \"country\", \"country_code\", \"full_name\", \n",
    "                        \"geo\", \"id\", \"name\", \"place_type\"]\n",
    "    )"
   ]
  },
  {
   "cell_type": "code",
   "execution_count": 119,
   "id": "baf5103e",
   "metadata": {
    "ExecuteTime": {
     "end_time": "2022-05-08T06:24:07.061461Z",
     "start_time": "2022-05-08T06:24:05.695828Z"
    }
   },
   "outputs": [],
   "source": [
    "for i in collection:\n",
    "    a = i\n",
    "    break"
   ]
  },
  {
   "cell_type": "code",
   "execution_count": 122,
   "id": "e13ca463",
   "metadata": {
    "ExecuteTime": {
     "end_time": "2022-05-08T06:24:34.349734Z",
     "start_time": "2022-05-08T06:24:34.346238Z"
    }
   },
   "outputs": [
    {
     "data": {
      "text/plain": [
       "[<Tweet id=1523186910512173056 text='Sky News Kamali Melbourne making desperate  attempts to smear Kier Starmer during the interview with Jonathan Powell #SkyNews @SkyNews'>,\n",
       " <Tweet id=1523186908087697409 text=\"@lporiginalg Simple Response: Don't live in the shit hole of a city we call New York.\">,\n",
       " <Tweet id=1523186895731453952 text='@OfhersldeMeta You Get a Koda!  @spark42693047 @s_nhery @NaturalyDiverse @Melbourne_33 @Pepps96 @uqywoX @junkawaa2 @c4coded @xarisark @NHHNFT @Awa750018 @JosephW41132147 @JORDI_Cazorla'>,\n",
       " <Tweet id=1523186889422946304 text='It’s got a real small portion of its head you can shoot it…&amp; the entire time the gator fighting your ass &amp; DOWN SOUTH they not them lil rat looking gators. Bitch I live in NEW YORK I seen southern gators'>,\n",
       " <Tweet id=1523186884624916480 text='Time Out New York: Contact Information, Journalists, and Overview | Muck Rack https://t.co/yZARFM98C3'>,\n",
       " <Tweet id=1523186869885804544 text='After a 4-year hiatus in Melbourne, while she became a woman, community activist + cabaret star, we *finally* caught up. Miss Cairo is like a daughter. There were tears,  tea and lots of love. 💜 💋🙏😁 https://t.co/4kUGDUIOel'>,\n",
       " <Tweet id=1523186861228838914 text='Misogynistic men don’t deserve to have mouths. You’re telling me that a man who executed an entire attack on the city of New York for Sport, deserves to be happy… While a woman who was influenced by an evil book to k*ll people in order to get her children back, doesn’t?… https://t.co/t1B1inKRMy'>,\n",
       " <Tweet id=1523186838231343104 text='@rendezlouharry Hii. I’m selling two Harry styles one night only tickets for New York. I sent a DM. Please check!'>,\n",
       " <Tweet id=1523186823169667072 text='⠀ ⠀ ⠀ ⠀\\n⠀ ⠀ ⠀ ⠀can  new  york  go  a  day  without  mass  destruction?\\n⠀ ⠀ ⠀ ⠀'>,\n",
       " <Tweet id=1523186821932277760 text='Cleared: Construction on #HollandTunnel EB from New Jersey Side to New York Side'>,\n",
       " <Tweet id=1523186817314426880 text='Global Myanmar Spring Revolution protest was staged in New York, U.S., by pro-democracy Myanmar nationalities and activists on May 7.  \\n\\n#2022May8Coup #US_SanctionMOGE #WhatsHappeningInMyanmar https://t.co/wbNc18hpWC'>,\n",
       " <Tweet id=1523186810960355328 text='@MarkLovesTech Have a wonderful weekend and thanks. I am just really really looking forward to catching you in New York for World. Good luck with the travels.'>,\n",
       " <Tweet id=1523186789594374149 text='#goodmorning and have a very relaxing #Sunday 😊\\n\\n7/7 + weekend 😉\\nProbably everyone has heard about Central Park in New York ... here is its Polish counterpart ... one of the largest in Europe @park_slaski 🤩\\n\\nSo #SongOfTheDay is in Silesian 🎶\\nhttps://t.co/DW7Sf9FruE https://t.co/QDCDrZ2gRW'>,\n",
       " <Tweet id=1523186780878499840 text='The Hives - \"Hate to Say I Told You So\" live in New York #TheHives #HatetosayIToldYouSo https://t.co/nGM5RSUswY'>,\n",
       " <Tweet id=1523186775916752896 text='@HollywoodXT @kamaalrkhan @iHrithik @BeingSalmanKhan If you put a girl pic, that is not gonna impress me, Slaman Khan or who ever it may be, we will just vanish them. Extremely pagal from New York. Please stay away from us.'>,\n",
       " <Tweet id=1523186772447948800 text='Big L is getting a street named after him in Harlem, New York. https://t.co/6gfTxD7YUg'>,\n",
       " <Tweet id=1523186759571492864 text='@minjeongrr diet mountain dew baby new york city'>,\n",
       " <Tweet id=1523186743498862592 text='@scotinoz Did you enjoy Hamilton? We saw it in New York. Get some rest!'>,\n",
       " <Tweet id=1523186717599014912 text='@vlmdshariq @tessofdelhi @shabby_Rabu @ndtv MHA controls Delhi Police. This question should be asked to the Central Home Minister and not CM of Delhi.\\nAlso, such situations of (possible) personal vendetta will happen even if it is London, New York or anywhere.'>,\n",
       " <Tweet id=1523186715514474496 text='AAL106   American Airlines   Boeing 777 323ER \\nAltitude: 28125 ft   Distance: 13.86 km \\nSpeed: 445.9 mph   Squawk: 1401 \\nDeparted: KJFK John F Kennedy, New York, United States \\nArriving: EGLL London Heathrow, United Kingdom https://t.co/MH3YiuuVwE'>,\n",
       " <Tweet id=1523186648757932034 text=\"zara checkered top: 300 php\\n- stretchy, can fit up to large \\n- not worn pa\\n- medyo mainipis tela\\n\\ndon't knock new york croptop hoodie (makapal tela): 300 php\\n- super kapal ng tela, comfy\\n- kinda velvet yung itsura\\n- can fit up to semi-medium lang https://t.co/abzmJgKaIu\">,\n",
       " <Tweet id=1523186639173939200 text='@DavidNorth2 @damianm70 @FOXFOOTY All of Melbourne FC'>,\n",
       " <Tweet id=1523186622283796481 text=\"@antiboomerparty I like biking and it doesn't bother my arthritis most of the time (until I get off the bike, at least), so that works for me. Melbourne is also an excellent city to be a recreational cyclist in.\">,\n",
       " <Tweet id=1523186606173487104 text='@cvpayne @nytimes The New York Times will never allow themselves to ever utter or even dare to use the truth.'>,\n",
       " <Tweet id=1523186593799958529 text='Global Myanmar Spring Revolution protest was staged in New York, U.S., by pro-democracy Myanmar nationalities and activists on May 7.  #2022May8Coup #US_SanctionMOGE #WhatsHappeningInMyanmar https://t.co/rgJRtvvmD4'>,\n",
       " <Tweet id=1523186591581163520 text='Global Myanmar Spring Revolution protest was staged in New York, U.S., by pro-democracy Myanmar nationalities and activists on May 7.  #2022May8Coup #US_SanctionMOGE #WhatsHappeningInMyanmar https://t.co/q1YQlTgQLj'>,\n",
       " <Tweet id=1523186551160963072 text='Just posted a photo @ Rochester, New York https://t.co/ykJuetCafy'>,\n",
       " <Tweet id=1523186540150542336 text='I entered the HAMILTON $10 Lottery on @TodayTix! Tap to enter: https://t.co/r15pFF8FOm'>,\n",
       " <Tweet id=1523186520563142657 text='11:22 pm in San Diego and this the most New York shit I read all fucking day https://t.co/bokZRACjk9'>,\n",
       " <Tweet id=1523186457334411264 text='Round 8, 2022. Melbourne v St Kilda #AFLDeesSaints https://t.co/R19NFt3gwZ'>,\n",
       " <Tweet id=1523186454113193985 text='New York #Jets: OFFICIAL: Pen hit paper today.... \\n \\nhttps://t.co/zj9jRabuJ3\\n \\n#AmericanFootballConference #AmericanFootballConferenceEastDivision #EastRutherford #Football #NationalFootballLeague #NewJersey #NewYork #NewYorkJets #NFL https://t.co/tsiKYMQXJU'>,\n",
       " <Tweet id=1523186431912411136 text=\"I'm at The State Of New York in NY https://t.co/ssacMYZz3X\">,\n",
       " <Tweet id=1523186418658381824 text='@RealJamesWoods I remember when New York City drowned in 2000, like AL Gore said. David Hogg was there. Just ask him.'>,\n",
       " <Tweet id=1523186410215579648 text='William Price King sings Autumn in New York - - https://t.co/VFwKUhIOdu'>,\n",
       " <Tweet id=1523186372542353408 text='@OfhersldeMeta Kodas Act Fast  @melbourne_dao @toryblaize1 @marc_zitch @TreyArthurTKT @LitWithin2022 @dusuncelerndili @yoloonce123 @strongbounce @alfaLAF1 @VolkanCelik @Hickeeee @416TRAY @ThamChongSoon1'>,\n",
       " <Tweet id=1523186371531198464 text='@OfhersldeMeta You Get a Koda!  @meganedarragh @vvs1roundcut @IsleMochi @TheCoolestJason @HYsMAN_TROPHY @KaixiaRong @manumat321 @Hakone1212 @iAMdivaC @nftape2 @ssesame93 @MavisCWphoto @rafa10163g @melbourne_dao'>,\n",
       " <Tweet id=1523186285602811905 text=\"The Voice of West Papua is a radio show presented by West Papuan activists and community members in Melbourne who voice the aspirations of #WestPapua's struggle, share songs, interviews, music and stories. https://t.co/lyHuFJuSFn https://t.co/PQbnHWf6Gr\">,\n",
       " <Tweet id=1523186249414053888 text='I usually vote pre-poll if I’m gonna be out of town on Election Day, but ended up in hospital interstate before pre-poll opened. Anyone know how I can cast a Solomon vote in hospital in Melbourne? @AusElectoralCom ?'>,\n",
       " <Tweet id=1523186233136271361 text='I ate ramen in New York'>,\n",
       " <Tweet id=1523186212386746369 text='Global Myanmar Spring Revolution protest was staged in New York, U.S., by pro-democracy Myanmar nationalities and activists on May 7.  #2022May8Coup #US_SanctionMOGE #WhatsHappeningInMyanmar https://t.co/tt2DxULLT0'>,\n",
       " <Tweet id=1523186202727227393 text='Two @abcnews reports - today in SA and a few weeks ago from #Melbourne - fail to join the obvious dots! https://t.co/2Z38n4km4o'>,\n",
       " <Tweet id=1523186187598319616 text='me being dramatic that I can’t see Harry styles in New York https://t.co/HQkSJXD9d5'>,\n",
       " <Tweet id=1523186180984082432 text='this dude went to new york just to find a sugar mommy'>,\n",
       " <Tweet id=1523186169709998081 text='The New York Times\\n8 May 2022 https://t.co/Z8PkHpDwo1'>,\n",
       " <Tweet id=1523186136801513474 text='Disturbed that my sister is looking at buying a house in Newcastle. Once again I have failed to move family to Melbourne.'>,\n",
       " <Tweet id=1523186119529144321 text='@ShadowWilliam7 @fizaire @LRenard3 @SKMorefield @RandPaul Yeah, I would imagine New York, Florida, Texas, &amp; California would have the most. There were far more states without mandates than states with mandates though .'>,\n",
       " <Tweet id=1523186072582205440 text='@nypost Fake news how do you like it new York post'>,\n",
       " <Tweet id=1523186034309275649 text='@biephiephus @ParamoThomas In a New York minute.'>,\n",
       " <Tweet id=1523186028315430913 text='@blamesgame Yass I live in Vegas if you’re under 21 there’s not a lot of options but the strip is fun, and the high roller,roller coaster at the New York New York casino'>,\n",
       " <Tweet id=1523186027673751552 text='@NikkiFried Like who nutty liberals? So they can run the state in the ground like California and New York are you for real?....just think about what your saying.'>,\n",
       " <Tweet id=1523186013207621633 text='https://t.co/Mvnx2RmHUb \\nLUV Radio New York New York https://t.co/cOhBimZd4X'>,\n",
       " <Tweet id=1523186004613419008 text='“with no media coverage or public disclosure being provided. Within the New York State Department of Corrections system, King received a new identification number on April 20, which designated him as ‘female’ and distinguished him from his old ‘male’ identification number.”'>,\n",
       " <Tweet id=1523186003359404032 text='“In January, New York Governor Kathy Hochul introduced a policy directive, tacked onto a $216 billion budget plan, that would allow inmates who self-declare a gender identity to choose where they are incarcerated.\\nKing’s transfer to the women’s facility was done quietly…”'>,\n",
       " <Tweet id=1523186000834433024 text='Man who confessed to torture &amp; murder of a 4 yr old is placed in a NY women’s prison b/c politicians refuse to Just Say No to the insanity of official “validation of gender identity” despite horrific consequences to women (&amp; rational basis of law itself).\\n https://t.co/O9JAGv2bgT'>,\n",
       " <Tweet id=1523185995667349504 text='Hey y’all I’ve got harry styles One Night Only in New York tickets available for sale, if anyone needs tickets please send me a message'>,\n",
       " <Tweet id=1523185992785485824 text='*orders pizza after 11 pm* getting major new york vibes rn'>,\n",
       " <Tweet id=1523185952679628800 text=\"With the 18th overall selection in the NHL Draft, the New York Islanders are proud to select: Joe from Blue's Clues. https://t.co/Z5f7WADY0Y\">,\n",
       " <Tweet id=1523185949282238464 text='@OIThirty10 @ShakurStevenson You from New York?'>,\n",
       " <Tweet id=1523185947915227136 text=\"Hey @ganjadidthisto1! I'm 57 from Melbourne Australia. And I'm not from The Folk Nation but these are fire! Can an old man wear these without offending? https://t.co/85iPb9sfaP\">,\n",
       " <Tweet id=1523185941719957504 text='Campbell, New York(Tanglewood Lake) 2022-05-08 02:20:02 wind dir 349 wind speed 2.5 wind gust 2.9 temperature 35.1 dewpoint 33.01 rain last hour 0.0 rain since midnight 0.0 humidity 92.0 pressure 30.03 solar radiation 0 UV 0.0'>,\n",
       " <Tweet id=1523185939098472448 text='Honeoye Falls, New York 2022-05-08 02:20:01 wind dir 0 wind speed 0.0 wind gust 0.0 temperature 34.5 dewpoint 28.36 rain last hour 0.0 rain since midnight 0.0 humidity 78.0 pressure 30.06 solar radiation 0 UV 0.0'>,\n",
       " <Tweet id=1523185935386509313 text='@TomTheBombFl @markj_dorman @RollingNova82 @GeraldoRivera Move out of Florida and go to California or New York where you can live the consequences of your parties policies.'>,\n",
       " <Tweet id=1523185902134378497 text='Threw those red foam away in new York train station gators was talkin shyt bout marylyn Monroe hard body tho....'>,\n",
       " <Tweet id=1523185900305354754 text=\"If the Melbourne storm can do that against Penrith next week, like they did against, NZ, knights and dragons. It's a wrap.\">,\n",
       " <Tweet id=1523185864163028992 text='👉 JIM SANDE 👈\\n📌 @jcsande\\n\\n🗨️ Jim Sande is a music writer from New York. His work crosses neo-classical, ambient, and post-rock music genres using classical and electric guitar, piano, orchestral instruments,...\\n\\n️https://t.co/wjpWxiL9dq\\nhttps://t.co/WFUbKMU7ch'>,\n",
       " <Tweet id=1523185824543944704 text='The heat continues to come on Collingwood vice-captain Darcy Moore after a sub-standard first-half against Tiger Tom Lynch drew the ire of North Melbourne great Wayne Carey.\\n@BecHeraldSun\\n#AFLTigersPies\\nhttps://t.co/XBFiUuT0fm https://t.co/OfE6f7s9hn'>,\n",
       " <Tweet id=1523185820425162757 text=\"Storm v Dragons | Match Centre | Kayo Sports https://t.co/DprL9F8f7a \\nWTF did Lomax try &amp; pick up a ball  behind our goal line with one hand for??? Doesn't he know it's a serious game when we play the storm?????? FFS!~\\nThis ref's been okay since the 1st 3 minutes YAH!\">,\n",
       " <Tweet id=1523185786065080320 text='The project of the New York Times is to create an illusion that there\\'s a 50-50 split between \"conservatives\" and \"liberals\" in the USA and they get to be the referee.'>,\n",
       " <Tweet id=1523185775910998016 text='@Michael_60 Gee St Kilda were brave against Melbourne'>,\n",
       " <Tweet id=1523185749809668098 text='@jieun1U so her sending monsters which killed innocent people (eg: those in New York + other dimension) - is her being merciful instead of just getting America herself.... yeah real merciful. \\n\\n- an example, the guy on the motorbike gets absorbed by the tentacle beast +  vehicles thrown'>,\n",
       " <Tweet id=1523185747775623168 text='Subway. (@ MTA Subway - 42nd St/Bryant Park (B/D/F/M/7) - @nyctsubway in New York, NY) https://t.co/a3cEWj1VgH'>,\n",
       " <Tweet id=1523185742511362048 text='Independent Insurance Claims Adjuster in Amsterdam, New\\xa0York https://t.co/nOJBIe96aC'>,\n",
       " <Tweet id=1523185724291690496 text='Why a New York Bill Barring New Crypto Mines Would Be Bad for Business . The state senate should reject the legislation, which recently passed the assembly and would place a moratorium on approvals for permits for digital mining...'>,\n",
       " <Tweet id=1523185713155809281 text=\"Check out New York Nadia's video! #TikTok https://t.co/VI3hY93L04\">,\n",
       " <Tweet id=1523185710223659008 text='A rabbi was assaulted by a perpetrator who made antisemitic remarks throughout the attack in the Crown Heights neighborhood of Brooklyn, New York. \\n\\nhttps://t.co/b9Uuz4jpMt'>,\n",
       " <Tweet id=1523185706985988096 text='Check this finish out @jason_kint 1983 VRC Melbourne Cup _ Kiwi https://t.co/tix2u8kh3B via @YouTube'>,\n",
       " <Tweet id=1523185695250337792 text='AFL 2022, Melbourne Demons def St Kilda Saints, Round 8: Scores, updates, stats, video, stream, news, blog https://t.co/nQDLwiRuUm'>,\n",
       " <Tweet id=1523185681081966592 text='The Melbourne @storm have defeated the @NRL_Dragons 42 - 6 at AAMI Park on Sunday. \\n\\n#NRL #NRLStormDragons #RugbyLeague #IntRL https://t.co/R5amWUrWRU'>,\n",
       " <Tweet id=1523185645782396929 text=\"@basedcanadian_ @EpsteinDemocrat At least it's nowhere near as bad as New York.\">,\n",
       " <Tweet id=1523185642154254336 text='Dalai Lama Library and Learning Center Breaks Ground in New York – Buddhistdoor Global https://t.co/Ld9YEf066m'>,\n",
       " <Tweet id=1523185617210777600 text='DAL1   Delta Air Lines   Boeing 767 432ER \\nAltitude: 28975 ft   Distance: 14.22 km \\nSpeed: 477.3 mph   Squawk: 7753 \\nDeparted: KJFK John F Kennedy, New York, United States \\nArriving: EGLL London Heathrow, United Kingdom https://t.co/Q1diOJ9ydW'>,\n",
       " <Tweet id=1523185592359653376 text=\"You guys out west &amp; up in New York *maybe* but Florida isn't going down without a fight! #justsayno to #CreepyJoe https://t.co/XVAY28IKrl\">,\n",
       " <Tweet id=1523185591436816384 text='@beamailuc Best time is between late Jan-early Feb. You have maybe 3-4 days of nice weather before it is snowing or everything is on fire. I love Melbourne... https://t.co/NuUchLKslT'>,\n",
       " <Tweet id=1523185585069862912 text='NEW YORK GETS A NEW BULL: ICONIC GANSEVOORT MEATPACKING HOTEL, THE MEATPACKING BID AND | User Walls https://t.co/yIbxHdMECR'>,\n",
       " <Tweet id=1523185582075047937 text='lmaooooo ima love new york nggas forever https://t.co/jFgnOzxqSn'>,\n",
       " <Tweet id=1523185533421506560 text='crowleysdemons “Life has been very complicated,” Mr. Esparza says. “I’ve been very unsure of things since I came to New York. I was terrified that I would never work here, that I would be starving a'>,\n",
       " <Tweet id=1523185478484201472 text='The most corrupt administration in *history* and the New York Times is more interested in talking to MAGAs in diners and 20-something anti-abortionists. Great work there, Dean.'>,\n",
       " <Tweet id=1523185441498836992 text='Truly New York’s finest \\U0001fae1 @insomniacgames https://t.co/hFglONRByl'>,\n",
       " <Tweet id=1523185383512571904 text='@WallaceCarden @COLT609FAN I\\'m not \"the anglo race\" lol I\\'m from Wyoming. I don\\'t have some magic gestalt consciousness with someone from Melbourne because we both came from Britain two hundred years ago.'>,\n",
       " <Tweet id=1523185376541642754 text=\"@cados38 Freo vs Melbourne, I can't wait. #AFL\">,\n",
       " <Tweet id=1523185373572120577 text='As society keeps collapsing and more people spiral towards death, a core group of the bourgeoisie can still carry on their lives—the ideological function of liberal media like the New York Times is to present rationalizations of society as still fun and reasonable for that group'>,\n",
       " <Tweet id=1523185301950443520 text='Dear Twitter friends, it seems that we will soon have to leave Twitter! Musk wants US$ 1.- weekly from every user 😁😁😁😁 His greed will destroy every beautiful thing in this world!\\n\\nInside Elon Musk’s Big Plans for Twitter - The New York Times https://t.co/UW1ZkH5vyV'>,\n",
       " <Tweet id=1523185299567783937 text=\"@craigmelvin @ErinJackson480 @MikaelaShiffrin @nbc We ain't in California nor New York tho #csi\">,\n",
       " <Tweet id=1523185272749699072 text='Leafs Twitter’s favourite Australian Ice Hockey League team the Melbourne Ice took a 9-2 L against the Newcastle Northstars…. This is my local barn. I’m watching on PayTV from Sydney Airport. Give the team a follow at @melbourneice https://t.co/fDUNoIvEWd'>,\n",
       " <Tweet id=1523185246090698752 text='“Pelosi visits Kyiv, echoing US vow of wide victory.” New York Times, May 2nd, 2022.'>,\n",
       " <Tweet id=1523185189010214912 text='@ImranRiazKhan Passionate\\nKeep up the good work\\nManny Nazir\\nNew York'>,\n",
       " <Tweet id=1523185176150298624 text='Global Myanmar Spring Revolution protest was staged in New York, U.S., by pro-democracy Myanmar nationalities and activists on May 7.  #2022May8Coup #US_SanctionMOGE #WhatsHappeningInMyanmar https://t.co/Pw2PwAO8J3'>,\n",
       " <Tweet id=1523185167703060480 text='@invokeanand In a theatre in New York.'>,\n",
       " <Tweet id=1523185144869232640 text='@Cherylw358B @scruffkit @wombatwalking Scruffs is a gorgeous boy, a puuurfect ambassador of us Melbourne cats'>,\n",
       " <Tweet id=1523185133213593600 text='Yet mainstream  media jumping to defend it …when it’s in the gutter \\n\\nWe have endured unbelievable uncontrollable media \\nin Victoria , Melbourne was like a war zone …all \\nencouraged and endorsed by 3AW , The Age &amp; Herald \\nSun , ABC , Channel 7 , 9 , 10. 😎 . https://t.co/q0JqceLgI0'>]"
      ]
     },
     "execution_count": 122,
     "metadata": {},
     "output_type": "execute_result"
    }
   ],
   "source": [
    "a[0]"
   ]
  },
  {
   "cell_type": "code",
   "execution_count": 121,
   "id": "03f07fba",
   "metadata": {
    "ExecuteTime": {
     "end_time": "2022-05-08T06:24:08.741059Z",
     "start_time": "2022-05-08T06:24:08.737662Z"
    }
   },
   "outputs": [
    {
     "data": {
      "text/plain": [
       "{'users': [<User id=130789103 name=Ken Chisholm username=tighabhinn>,\n",
       "  <User id=715225438667153408 name=downtown_chair username=Downtown_Chair>,\n",
       "  <User id=1522790684163551233 name=OthersideMeta username=PattiWh12459301>,\n",
       "  <User id=1175107629233987584 name=Reed Richards (Earth-1610) 🇲🇿 username=WolfeYularen>,\n",
       "  <User id=110543972 name=ECARTE® username=expertosenarte>,\n",
       "  <User id=188262576 name=Stewart Who? username=DJstewartwho>,\n",
       "  <User id=1006842283780706310 name=ᱬ TJ ²ᴷ | WWE2K22 ✵ username=LegitOneJC>,\n",
       "  <User id=141490679 name=𝓳𝓾𝓵𝓲𝓪𝓷𝓷𝓪♥ username=_iliketobeme>,\n",
       "  <User id=1471708748804624384 name=ᅠ ᅠ ᅠ ᅠ ᅠ ᅠ ᅠ ᅠ ᅠ ᅠ ᅠ ᅠ 𝐏𝐄𝐓𝐄𝐑 #𝟑 (seen mtom) username=WEBSLNGS>,\n",
       "  <User id=50706690 name=511 New York username=511NY>,\n",
       "  <User id=1299282966128988160 name=Nan Waing Yati Htun 💜 username=waingchit166>,\n",
       "  <User id=91334387 name=Eoin Brazil username=eoinbrazil>,\n",
       "  <User id=394665263 name=Katja username=k_pawlowska>,\n",
       "  <User id=2238344179 name=TEXAS ROCK CHANNEL username=TEXASROCKFEED>,\n",
       "  <User id=1522309041950765059 name=Keshava NYC username=keshava_usa>,\n",
       "  <User id=24036264 name=HotNewHipHop username=HotNewHipHop>,\n",
       "  <User id=1453946226420817923 name=🍞 username=hanmigatito>,\n",
       "  <User id=24168177 name=Louise \"Слуга Народу\" Hitchcock username=ashlarblocks>,\n",
       "  <User id=178398913 name=SpaceBoy username=I_antriksh>,\n",
       "  <User id=1509206541181857792 name=AbovePortishead ADS-B Bot username=AbovePortishead>,\n",
       "  <User id=1466716884137816064 name=xia ♡ decluttering !! username=pshbns>,\n",
       "  <User id=85823253 name=Adam Sandaver username=AdamSandaver>,\n",
       "  <User id=66515715 name=El Yobo username=elyobo>,\n",
       "  <User id=1394377337978777602 name=Jake Childers username=JakeChilders14>,\n",
       "  <User id=1371343880377995265 name=Jasmine username=hsu_myat_nandar>,\n",
       "  <User id=1357194802694004737 name=Min Maung Maung Zin username=minmmzin>,\n",
       "  <User id=75339840 name=The Many Face God username=tarifj>,\n",
       "  <User id=544643370 name=Nyaya username=NyayaA12>,\n",
       "  <User id=1264358919972859905 name=! username=MoneyPlusGame>,\n",
       "  <User id=1373600677 name=AFL Player Ratings username=AFLPlayerRating>,\n",
       "  <User id=1073812246537609216 name=Raw Chili username=raw_chili>,\n",
       "  <User id=115753714 name=Catherine Schwab username=Kitcat1378>,\n",
       "  <User id=1518722833685250048 name=David Desrosiers username=DefiantWinston>,\n",
       "  <User id=631133874 name=williampriceking username=wpkofficial>,\n",
       "  <User id=1522690753981526016 name=OthersideMeta username=DashCarina>,\n",
       "  <User id=1522683272047652864 name=OthersideMeta username=MariaHa98063869>,\n",
       "  <User id=71891556 name=Free West Papua username=FreeWestPapua>,\n",
       "  <User id=393211622 name=KC Martin-Stone 💉💉💉💉 username=KCMartinStone>,\n",
       "  <User id=1323299741451444225 name=People Eating Things in Places username=WritingBot1>,\n",
       "  <User id=1356892008158171138 name=Kyawt Kay Khaing username=KyawtKa81994186>,\n",
       "  <User id=1519487298496503809 name=Steve Hyland username=SteveHyland777>,\n",
       "  <User id=2895038982 name=pris username=prissillax>,\n",
       "  <User id=1418412953339109378 name=orr tappman ♡ username=regionaigay>,\n",
       "  <User id=1522053073849688065 name=The New York Times Front Page username=nytimesarchive>,\n",
       "  <User id=13524882 name=FHS Football Ops. username=dbyrd000>,\n",
       "  <User id=1519089060354138112 name=Shane Freytag username=FreytagShane>,\n",
       "  <User id=178498912 name=TY MORG username=pugbandit>,\n",
       "  <User id=1175581479750885377 name=Jay ☆ username=bound2jay>,\n",
       "  <User id=931425691588993026 name=CraigDamon username=CraigDamon12>,\n",
       "  <User id=1522417894893801473 name=LUV Radio username=LUVRadio3>,\n",
       "  <User id=128301595 name=Candice Jackson username=CEJacksonLaw>,\n",
       "  <User id=895069634331901953 name=Michelle 💕💕 username=michelleMr1_>,\n",
       "  <User id=1075019928435077120 name=logann 0))) username=humanmullet>,\n",
       "  <User id=1491485307828682760 name=NHL Draft Bot username=NHLDraftBot>,\n",
       "  <User id=1369490844156391427 name=Kevin 🇨🇦🏀 username=KevinF3394>,\n",
       "  <User id=3122674117 name=Jalal Nowhereman username=jalalyacca>,\n",
       "  <User id=51412834 name=Thomas Bond username=tanglewoodlake>,\n",
       "  <User id=50326219 name=Thomas Bond username=fawnwoodestates>,\n",
       "  <User id=1584058680 name=Ryan username=11RyzoB>,\n",
       "  <User id=279849222 name=ΜΟLΞΕ username=MoneyMolee>,\n",
       "  <User id=1001859244621099009 name=Lucas 🇦🇺🇪🇸 username=3ptspanishking>,\n",
       "  <User id=1265364337612296192 name=BlackettMusic.com  Art Promotion username=BlackettPromo>,\n",
       "  <User id=14656137 name=SuperFooty (AFL) username=superfooty>,\n",
       "  <User id=191351607 name=Jason Dalton-Earls username=cubensis13>,\n",
       "  <User id=1121990445779886081 name=Triticale username=CyranoKale>,\n",
       "  <User id=194487132 name=N P Holds username=nickh32>,\n",
       "  <User id=3239042037 name=Sockfox username=Sockfox101>,\n",
       "  <User id=23906978 name=Andrew Chang username=aczhang0>,\n",
       "  <User id=58539535 name=Jobalertshop username=hoachithanh>,\n",
       "  <User id=1467675015802146819 name=蓝慕楹 username=lanying24113338>,\n",
       "  <User id=259444543 name=ULTRA MAGA Yolonda M Brown username=Moniera1>,\n",
       "  <User id=19489239 name=The Jerusalem Post username=Jerusalem_Post>,\n",
       "  <User id=1877127662 name=Darren Howard username=HowardDarren84>,\n",
       "  <User id=1378517780782178304 name=GameChanger(R) username=gamechanger_r>,\n",
       "  <User id=2816576292 name=Asia Pacific Rugby League username=asiapacificrl>,\n",
       "  <User id=898541877602811904 name=Lily the Jared Polis Fan username=Lily_PolisStan>,\n",
       "  <User id=886328010 name=BA Friends of Tibet username=BAFoTTibet>,\n",
       "  <User id=1389628284342837248 name=BlondBeard4Congress🇺🇸 username=Maga4BlondBeard>,\n",
       "  <User id=1435407226533920775 name=Duncan🍻Reece username=Duncan__Reece>,\n",
       "  <User id=2481907427 name=jc 🧘🏿‍♀️ username=_jennessc>,\n",
       "  <User id=2788443065 name=serves u right username=TIFFraul>,\n",
       "  <User id=1384976352089047042 name=Gay Bitch username=smolpootato>,\n",
       "  <User id=1518436695854632961 name=SHODAN Disrespector username=Imfinehowareyo1>,\n",
       "  <User id=1478891328721199104 name=Universal9168 username=Universal9168>,\n",
       "  <User id=1494252980119474180 name=Theo username=DialecticsGod>,\n",
       "  <User id=1365742699882704896 name=Th. M. Eid username=ThMEid1>,\n",
       "  <User id=1486347460511420421 name=Keenan Hilltop username=moomooz16>,\n",
       "  <User id=1392994147888295937 name=🍁 Lucas 🇦🇺🇺🇦🇮🇩 Luqman | 🍁 ride the ⚡️ username=194_luqman>,\n",
       "  <User id=322781328 name=Michael RentaMob 🚩🇵🇸☮ 🏳️‍🌈✊🏿 username=MichaelMillercm>,\n",
       "  <User id=1442273349573373959 name=Manny Nazir username=MannyNazir>,\n",
       "  <User id=1356894149283254273 name=Zinzar username=zinzarphyoaung>,\n",
       "  <User id=34667257 name=Aseem Chhabra username=chhabs>,\n",
       "  <User id=733651259731808256 name=Clinton & Shelby username=craigsrex>,\n",
       "  <User id=1402571485089198086 name=concerned citizen username=concern57866849>],\n",
       " 'media': [<Media media_key=3_1523186867700740096 type=photo>,\n",
       "  <Media media_key=3_1523157810800119808 type=photo>,\n",
       "  <Media media_key=3_1523186753728884736 type=photo>,\n",
       "  <Media media_key=3_1523186712578560000 type=photo>,\n",
       "  <Media media_key=3_1523186636221079552 type=photo>,\n",
       "  <Media media_key=3_1523186645817696256 type=photo>,\n",
       "  <Media media_key=3_1523186449382019072 type=photo>,\n",
       "  <Media media_key=3_1523186452720275457 type=photo>,\n",
       "  <Media media_key=3_1523186454947840001 type=photo>,\n",
       "  <Media media_key=3_1523186452724658176 type=photo>,\n",
       "  <Media media_key=3_1523186284193366017 type=photo>,\n",
       "  <Media media_key=3_1523186180216426496 type=photo>,\n",
       "  <Media media_key=3_1523186181134897152 type=photo>,\n",
       "  <Media media_key=3_1523186182540038144 type=photo>,\n",
       "  <Media media_key=3_1523186183882166272 type=photo>,\n",
       "  <Media media_key=3_1523186155357089792 type=photo>,\n",
       "  <Media media_key=3_1523185920337498113 type=photo>,\n",
       "  <Media media_key=3_1523185944614035456 type=photo>,\n",
       "  <Media media_key=3_1523185950372904960 type=photo>,\n",
       "  <Media media_key=3_1523185826615955456 type=photo>,\n",
       "  <Media media_key=3_1523185877178281987 type=photo>,\n",
       "  <Media media_key=3_1523185688241655808 type=photo>,\n",
       "  <Media media_key=3_1523185645996634112 type=photo>,\n",
       "  <Media media_key=3_1523185614212014080 type=photo>,\n",
       "  <Media media_key=16_1523185582309920769 type=animated_gif>,\n",
       "  <Media media_key=3_1523185436406910976 type=photo>,\n",
       "  <Media media_key=3_1523185261039226881 type=photo>,\n",
       "  <Media media_key=3_1523185261030809600 type=photo>,\n",
       "  <Media media_key=3_1523185261894844417 type=photo>,\n",
       "  <Media media_key=3_1523185261236359173 type=photo>],\n",
       " 'places': [<Place id=b046074b1030a44d full_name=Jersey City, NJ>,\n",
       "  <Place id=94965b2c45386f87 full_name=New York, USA>,\n",
       "  <Place id=01a9a39529b27f36 full_name=Manhattan, NY>]}"
      ]
     },
     "execution_count": 121,
     "metadata": {},
     "output_type": "execute_result"
    }
   ],
   "source": [
    "a[1]"
   ]
  },
  {
   "cell_type": "code",
   "execution_count": 123,
   "id": "e7c1e518",
   "metadata": {
    "ExecuteTime": {
     "end_time": "2022-05-08T06:27:25.559171Z",
     "start_time": "2022-05-08T06:27:25.335002Z"
    }
   },
   "outputs": [
    {
     "ename": "Forbidden",
     "evalue": "403 Forbidden",
     "output_type": "error",
     "traceback": [
      "\u001b[0;31m---------------------------------------------------------------------------\u001b[0m",
      "\u001b[0;31mForbidden\u001b[0m                                 Traceback (most recent call last)",
      "\u001b[0;32m/var/folders/ym/0ljlvjm950s2pyy2dqdzhv780000gn/T/ipykernel_95034/3531583.py\u001b[0m in \u001b[0;36m<module>\u001b[0;34m\u001b[0m\n\u001b[0;32m----> 1\u001b[0;31m \u001b[0mclient\u001b[0m\u001b[0;34m.\u001b[0m\u001b[0msearch_all_tweets\u001b[0m\u001b[0;34m(\u001b[0m\u001b[0mq\u001b[0m\u001b[0;34m)\u001b[0m\u001b[0;34m\u001b[0m\u001b[0;34m\u001b[0m\u001b[0m\n\u001b[0m",
      "\u001b[0;32m~/miniforge3/lib/python3.9/site-packages/tweepy/client.py\u001b[0m in \u001b[0;36msearch_all_tweets\u001b[0;34m(self, query, **params)\u001b[0m\n\u001b[1;32m   1143\u001b[0m         \"\"\"\n\u001b[1;32m   1144\u001b[0m         \u001b[0mparams\u001b[0m\u001b[0;34m[\u001b[0m\u001b[0;34m\"query\"\u001b[0m\u001b[0;34m]\u001b[0m \u001b[0;34m=\u001b[0m \u001b[0mquery\u001b[0m\u001b[0;34m\u001b[0m\u001b[0;34m\u001b[0m\u001b[0m\n\u001b[0;32m-> 1145\u001b[0;31m         return self._make_request(\n\u001b[0m\u001b[1;32m   1146\u001b[0m             \u001b[0;34m\"GET\"\u001b[0m\u001b[0;34m,\u001b[0m \u001b[0;34m\"/2/tweets/search/all\"\u001b[0m\u001b[0;34m,\u001b[0m \u001b[0mparams\u001b[0m\u001b[0;34m=\u001b[0m\u001b[0mparams\u001b[0m\u001b[0;34m,\u001b[0m\u001b[0;34m\u001b[0m\u001b[0;34m\u001b[0m\u001b[0m\n\u001b[1;32m   1147\u001b[0m             endpoint_parameters=(\n",
      "\u001b[0;32m~/miniforge3/lib/python3.9/site-packages/tweepy/client.py\u001b[0m in \u001b[0;36m_make_request\u001b[0;34m(self, method, route, params, endpoint_parameters, json, data_type, user_auth)\u001b[0m\n\u001b[1;32m    124\u001b[0m         \u001b[0mrequest_params\u001b[0m \u001b[0;34m=\u001b[0m \u001b[0mself\u001b[0m\u001b[0;34m.\u001b[0m\u001b[0m_process_params\u001b[0m\u001b[0;34m(\u001b[0m\u001b[0mparams\u001b[0m\u001b[0;34m,\u001b[0m \u001b[0mendpoint_parameters\u001b[0m\u001b[0;34m)\u001b[0m\u001b[0;34m\u001b[0m\u001b[0;34m\u001b[0m\u001b[0m\n\u001b[1;32m    125\u001b[0m \u001b[0;34m\u001b[0m\u001b[0m\n\u001b[0;32m--> 126\u001b[0;31m         response = self.request(method, route, params=request_params,\n\u001b[0m\u001b[1;32m    127\u001b[0m                                 json=json, user_auth=user_auth)\n\u001b[1;32m    128\u001b[0m \u001b[0;34m\u001b[0m\u001b[0m\n",
      "\u001b[0;32m~/miniforge3/lib/python3.9/site-packages/tweepy/client.py\u001b[0m in \u001b[0;36mrequest\u001b[0;34m(self, method, route, params, json, user_auth)\u001b[0m\n\u001b[1;32m     97\u001b[0m                 \u001b[0;32mraise\u001b[0m \u001b[0mUnauthorized\u001b[0m\u001b[0;34m(\u001b[0m\u001b[0mresponse\u001b[0m\u001b[0;34m)\u001b[0m\u001b[0;34m\u001b[0m\u001b[0;34m\u001b[0m\u001b[0m\n\u001b[1;32m     98\u001b[0m             \u001b[0;32mif\u001b[0m \u001b[0mresponse\u001b[0m\u001b[0;34m.\u001b[0m\u001b[0mstatus_code\u001b[0m \u001b[0;34m==\u001b[0m \u001b[0;36m403\u001b[0m\u001b[0;34m:\u001b[0m\u001b[0;34m\u001b[0m\u001b[0;34m\u001b[0m\u001b[0m\n\u001b[0;32m---> 99\u001b[0;31m                 \u001b[0;32mraise\u001b[0m \u001b[0mForbidden\u001b[0m\u001b[0;34m(\u001b[0m\u001b[0mresponse\u001b[0m\u001b[0;34m)\u001b[0m\u001b[0;34m\u001b[0m\u001b[0;34m\u001b[0m\u001b[0m\n\u001b[0m\u001b[1;32m    100\u001b[0m             \u001b[0;32mif\u001b[0m \u001b[0mresponse\u001b[0m\u001b[0;34m.\u001b[0m\u001b[0mstatus_code\u001b[0m \u001b[0;34m==\u001b[0m \u001b[0;36m404\u001b[0m\u001b[0;34m:\u001b[0m\u001b[0;34m\u001b[0m\u001b[0;34m\u001b[0m\u001b[0m\n\u001b[1;32m    101\u001b[0m                 \u001b[0;32mraise\u001b[0m \u001b[0mNotFound\u001b[0m\u001b[0;34m(\u001b[0m\u001b[0mresponse\u001b[0m\u001b[0;34m)\u001b[0m\u001b[0;34m\u001b[0m\u001b[0;34m\u001b[0m\u001b[0m\n",
      "\u001b[0;31mForbidden\u001b[0m: 403 Forbidden"
     ]
    }
   ],
   "source": [
    "client.search_all_tweets(q)"
   ]
  },
  {
   "cell_type": "code",
   "execution_count": null,
   "id": "b6fa3ead",
   "metadata": {
    "ExecuteTime": {
     "end_time": "2022-05-08T06:48:13.016600Z",
     "start_time": "2022-05-08T06:48:12.555672Z"
    }
   },
   "outputs": [],
   "source": []
  },
  {
   "cell_type": "code",
   "execution_count": null,
   "id": "cae0d0a1",
   "metadata": {
    "ExecuteTime": {
     "end_time": "2022-05-08T06:51:29.703234Z",
     "start_time": "2022-05-08T06:51:29.477565Z"
    }
   },
   "outputs": [],
   "source": []
  },
  {
   "cell_type": "code",
   "execution_count": null,
   "id": "85d66fa3",
   "metadata": {},
   "outputs": [],
   "source": []
  }
 ],
 "metadata": {
  "kernelspec": {
   "display_name": "Python 3 (ipykernel)",
   "language": "python",
   "name": "python3"
  },
  "language_info": {
   "codemirror_mode": {
    "name": "ipython",
    "version": 3
   },
   "file_extension": ".py",
   "mimetype": "text/x-python",
   "name": "python",
   "nbconvert_exporter": "python",
   "pygments_lexer": "ipython3",
   "version": "3.9.7"
  },
  "toc": {
   "base_numbering": 1,
   "nav_menu": {},
   "number_sections": true,
   "sideBar": true,
   "skip_h1_title": false,
   "title_cell": "Table of Contents",
   "title_sidebar": "Contents",
   "toc_cell": false,
   "toc_position": {},
   "toc_section_display": true,
   "toc_window_display": false
  }
 },
 "nbformat": 4,
 "nbformat_minor": 5
}
